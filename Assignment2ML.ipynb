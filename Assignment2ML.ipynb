{
  "metadata": {
    "language_info": {
      "codemirror_mode": {
        "name": "python",
        "version": 3
      },
      "file_extension": ".py",
      "mimetype": "text/x-python",
      "name": "python",
      "nbconvert_exporter": "python",
      "pygments_lexer": "ipython3",
      "version": "3.8"
    },
    "kernelspec": {
      "name": "python",
      "display_name": "Python (Pyodide)",
      "language": "python"
    }
  },
  "nbformat_minor": 4,
  "nbformat": 4,
  "cells": [
    {
      "cell_type": "code",
      "source": "# declaring the number of rows\nno_of_rows = 5 \n\n# First for loop to print the first 5 columns of the pattern in increasing order\nfor i in range(0, no_of_rows):\n    for j in range(0, i + 1):\n        print(\"*\", end=' ')\n    print(\"\\r\")\n\n# Second for loop to print the second half of the pattern in decreasing order    \nfor i in range(no_of_rows, 0, -1):\n    for j in range(0, i - 1):\n        print(\"*\", end=' ')\n    print(\"\\r\")",
      "metadata": {
        "trusted": true
      },
      "execution_count": 1,
      "outputs": [
        {
          "name": "stdout",
          "text": "* \n* * \n* * * \n* * * * \n* * * * * \n* * * * \n* * * \n* * \n* \n\n",
          "output_type": "stream"
        }
      ]
    },
    {
      "cell_type": "code",
      "source": "my_list = [10, 20, 30, 40, 50, 60, 70, 80, 90, 100]\nfor i in range(1, len(my_list), 2):\n    print(my_list[i])",
      "metadata": {
        "trusted": true
      },
      "execution_count": 2,
      "outputs": [
        {
          "name": "stdout",
          "text": "20\n40\n60\n80\n100\n",
          "output_type": "stream"
        }
      ]
    },
    {
      "cell_type": "code",
      "source": "x = [23, \"Python\", 23.98]\ntypes = []\nfor i in x:\n    types.append(type(i))\n\nprint(x)\nprint(types)",
      "metadata": {
        "trusted": true
      },
      "execution_count": 3,
      "outputs": [
        {
          "name": "stdout",
          "text": "[23, 'Python', 23.98]\n[<class 'int'>, <class 'str'>, <class 'float'>]\n",
          "output_type": "stream"
        }
      ]
    },
    {
      "cell_type": "code",
      "source": "#. Write a function that takes a list and returns a new list with unique items of the first list.\n\ndef get_unique_list(input_list):\n    return list(set(input_list))\n\nsample_list = [1,2,3,3,3,3,4,5]\nunique_list = get_unique_list(sample_list)\nprint(unique_list)",
      "metadata": {
        "trusted": true
      },
      "execution_count": 4,
      "outputs": [
        {
          "name": "stdout",
          "text": "[1, 2, 3, 4, 5]\n",
          "output_type": "stream"
        }
      ]
    },
    {
      "cell_type": "code",
      "source": "#Write a function that accepts a string and calculate the number of upper-case letters and lower-case letters.\n#Input String: 'The quick Brow Fox'\n\ndef count_cases(string):\n    upper_count = 0\n    lower_count = 0\n    for char in string:\n        if char.isupper():\n            upper_count += 1\n        elif char.islower():\n            lower_count += 1\n    return upper_count, lower_count\n\ninput_string = 'The quick Brow Fox'\nupper_count, lower_count = count_cases(input_string)\nprint(\"No. of Upper-case characters:\", upper_count)\nprint(\"No. of Lower-case characters:\", lower_count)",
      "metadata": {
        "trusted": true
      },
      "execution_count": 5,
      "outputs": [
        {
          "name": "stdout",
          "text": "No. of Upper-case characters: 3\nNo. of Lower-case characters: 12\n",
          "output_type": "stream"
        }
      ]
    },
    {
      "cell_type": "code",
      "source": "",
      "metadata": {},
      "execution_count": null,
      "outputs": []
    }
  ]
}